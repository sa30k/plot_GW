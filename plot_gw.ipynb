{
 "cells": [
  {
   "cell_type": "code",
   "execution_count": 5,
   "id": "48691bcf",
   "metadata": {},
   "outputs": [
    {
     "data": {
      "application/vnd.jupyter.widget-view+json": {
       "model_id": "7039054f874146418b8876770d2b642a",
       "version_major": 2,
       "version_minor": 0
      },
      "text/plain": [
       "HBox(children=(Checkbox(value=True, description='LIGO H1'), Checkbox(value=False, description='LIGO L1'), Chec…"
      ]
     },
     "metadata": {},
     "output_type": "display_data"
    },
    {
     "data": {
      "application/vnd.jupyter.widget-view+json": {
       "model_id": "5e9acf5b3238426d807937484559582a",
       "version_major": 2,
       "version_minor": 0
      },
      "text/plain": [
       "VBox(children=(HBox(children=(IntSlider(value=30, description='Mass1', max=50, min=3), IntSlider(value=30, des…"
      ]
     },
     "metadata": {},
     "output_type": "display_data"
    },
    {
     "data": {
      "application/vnd.jupyter.widget-view+json": {
       "model_id": "13f64d248a4449e187c25146166361e8",
       "version_major": 2,
       "version_minor": 0
      },
      "text/plain": [
       "Output()"
      ]
     },
     "metadata": {},
     "output_type": "display_data"
    },
    {
     "name": "stdout",
     "output_type": "stream",
     "text": [
      "注) 質量の単位は太陽質量、距離の単位はMpcである。\n"
     ]
    }
   ],
   "source": [
    "import numpy as np\n",
    "import matplotlib.pyplot as plt\n",
    "from pycbc.waveform import get_td_waveform\n",
    "from pycbc.detector import Detector\n",
    "from pycbc.coordinates import spherical_to_cartesian\n",
    "from ipywidgets import Checkbox, IntSlider, FloatSlider, Layout, HBox, VBox, interactive_output\n",
    "\n",
    "h1 = Checkbox(value=True, description='LIGO H1')\n",
    "l1 = Checkbox(value=False, description='LIGO L1')\n",
    "v1 = Checkbox(value=False, description='Virgo')\n",
    "k1 = Checkbox(value=False, description='KAGRA')\n",
    "\n",
    "mass1 = IntSlider(min=3, max=50, step=1, value=30, description=\"Mass1\")\n",
    "mass2 = IntSlider(min=3, max=50, step=1, value=30, description=\"Mass2\")\n",
    "distance = IntSlider(min=500, max=1500, step=1, value=500, description=\"Distance\")\n",
    "dec = FloatSlider(min=0, max=np.pi, step=0.01, value=0, description=\"Dec\")\n",
    "ra = FloatSlider(min=0, max=2*np.pi, step=0.01, value=0, description=\"RA\")\n",
    "inclination = FloatSlider(min=0, max=2*np.pi, step=0.01, value=0, description=\"Inclination\")\n",
    "pol = FloatSlider(min=0, max=2*np.pi, step=0.01, value=0, description=\"Polar angle\")\n",
    "spin1a = FloatSlider(min=0, max=0.99, step=0.01, value=0, description=\"spin1_amp\")\n",
    "spin1az = FloatSlider(min=0, max=2*np.pi, step=0.01, value=0, description=\"spin1_az\")\n",
    "spin1po = FloatSlider(min=0, max=np.pi, step=0.01, value=0, description=\"spin1_polar\")\n",
    "spin2a = FloatSlider(min=0, max=0.99, step=0.01, value=0, description=\"spin2_amp\")\n",
    "spin2az = FloatSlider(min=0, max=2*np.pi, step=0.01, value=0, description=\"spin2_az\")\n",
    "spin2po = FloatSlider(min=0, max=np.pi, step=0.01, value=0, description=\"spin2_polar\")\n",
    "coa_phase = FloatSlider(min=0, max=2*np.pi, step=0.01, value=0, description=\"Coa phase\")\n",
    "\n",
    "def plot_gw(mass1, mass2, distance, dec, ra, inclination, pol, coa_phase, spin1a, spin1az, spin1po, spin2a, spin2az, spin2po, h1, l1, v1, k1):\n",
    "    spin1x, spin1y, spin1z = spherical_to_cartesian(spin1a, spin1az, spin1po)\n",
    "    spin2x, spin2y, spin2z = spherical_to_cartesian(spin2a, spin2az, spin2po)\n",
    "    hp, hc = get_td_waveform(approximant=\"IMRPhenomXPHM\", mass1=mass1, mass2=mass2, distance=distance, coa_phase=coa_phase, inclination=inclination,\n",
    "                            spin1x=spin1x, spin1y=spin1y, spin1z=spin1z, spin2x=spin2x, spin2y=spin2y, spin2z=spin2z, delta_t=1.0/2048, f_lower=20)\n",
    "    \n",
    "    plotDetector = (h1,l1,v1,k1)\n",
    "    waves = {}\n",
    "    for i, det in enumerate(('H1', 'L1', 'V1', 'K1')):\n",
    "        if plotDetector[i]:\n",
    "            wave = Detector(det).project_wave(hp, hc, ra, dec, pol)\n",
    "            waves[det] = wave.time_slice(float(wave.end_time)-3, float(wave.end_time))\n",
    "            \n",
    "    plt.figure(figsize=(20,8))\n",
    "    for det in waves:\n",
    "        plt.plot(waves[det].sample_times, waves[det], label=det)\n",
    "    plt.xlabel('Time from merger(s)', fontsize=16)\n",
    "    plt.ylabel('Strain', fontsize=16)\n",
    "    plt.ylim(-2e-21, 2e-21)\n",
    "    if 1 in plotDetector:\n",
    "        plt.legend(fontsize=16)\n",
    "    plt.grid()\n",
    "\n",
    "out = interactive_output(plot_gw,\n",
    "                         {'mass1':mass1, 'mass2':mass2, 'distance':distance, 'dec':dec, 'ra':ra, 'pol':pol, 'coa_phase':coa_phase, 'inclination':inclination, \n",
    "                          'spin1a':spin1a, 'spin1az':spin1az, 'spin1po':spin1po, 'spin2a':spin2a, 'spin2az':spin2az, 'spin2po':spin2po,\n",
    "                          'h1':h1, 'l1':l1, 'v1':v1, 'k1':k1})\n",
    "check_boxes = HBox([h1, l1, v1, k1])\n",
    "sliders = VBox([HBox([mass1, mass2, distance, coa_phase]), HBox([spin1a, spin1az, spin1po]), HBox([spin2a, spin2az, spin2po]), HBox([dec, ra, inclination,pol])])\n",
    "display(check_boxes, sliders, out)\n",
    "print('注) 質量の単位は太陽質量、距離の単位はMpcである。')"
   ]
  },
  {
   "cell_type": "code",
   "execution_count": null,
   "id": "1d161864",
   "metadata": {},
   "outputs": [],
   "source": []
  }
 ],
 "metadata": {
  "kernelspec": {
   "display_name": "Python 3 (ipykernel)",
   "language": "python",
   "name": "python3"
  },
  "language_info": {
   "codemirror_mode": {
    "name": "ipython",
    "version": 3
   },
   "file_extension": ".py",
   "mimetype": "text/x-python",
   "name": "python",
   "nbconvert_exporter": "python",
   "pygments_lexer": "ipython3",
   "version": "3.8.10"
  }
 },
 "nbformat": 4,
 "nbformat_minor": 5
}
